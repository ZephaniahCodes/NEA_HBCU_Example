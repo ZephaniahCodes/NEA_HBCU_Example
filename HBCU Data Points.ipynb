{
 "cells": [
  {
   "cell_type": "code",
   "execution_count": 1,
   "id": "f0a15048",
   "metadata": {},
   "outputs": [],
   "source": [
    "import plotly.graph_objects as go\n",
    "import pandas as pd"
   ]
  },
  {
   "cell_type": "code",
   "execution_count": 2,
   "id": "8aa978dc",
   "metadata": {},
   "outputs": [],
   "source": [
    "df = pd.read_csv('Copy of T Search 2.11.2022.csv')\n",
    "df['text'] = df['Primary Institution'] + '\\n' + df['City'] + ', ' + df['State'] + '\\n' + 'Council Number Date' + df['Status'].astype(str)\n",
    "\n"
   ]
  },
  {
   "cell_type": "code",
   "execution_count": 5,
   "id": "fbe7258a",
   "metadata": {},
   "outputs": [],
   "source": [
    "fig = go.Figure(data=go.Scattergeo(\n",
    "        lon = df['Longitude'],\n",
    "        lat = df['Latitude'],\n",
    "        text = df['text'],\n",
    "        mode = 'markers',\n",
    "        marker_color = 'blue',\n",
    "        ))\n"
   ]
  },
  {
   "cell_type": "code",
   "execution_count": 6,
   "id": "54762a52",
   "metadata": {},
   "outputs": [
    {
     "data": {
      "application/vnd.plotly.v1+json": {
       "config": {
        "plotlyServerURL": "https://plot.ly"
       },
       "data": [
        {
         "lat": [
          34.7846326,
          32.3636619,
          32.3636619,
          32.3636619,
          32.3636619,
          32.3636619,
          32.3636619,
          32.3636619,
          32.3636619,
          32.3636619,
          33.480831,
          34.751841,
          33.1982647,
          33.1982647,
          33.4327519,
          33.4327519,
          33.4327519,
          32.430678,
          32.430678,
          32.430678,
          32.430678,
          32.430678,
          32.430678,
          32.430678,
          34.2468716,
          34.2468716,
          38.922684,
          38.922684,
          38.922684,
          38.922684,
          38.922684,
          38.922684,
          38.922684,
          38.922684,
          38.922684,
          38.922684,
          38.922684,
          38.922684,
          38.922684,
          38.922684,
          38.922684,
          38.922684,
          38.944677,
          38.944677,
          38.944677,
          38.944677,
          38.944677,
          38.944677,
          38.944677,
          38.944677,
          38.944677,
          38.944677,
          38.944677,
          38.944677,
          38.944677,
          39.186272,
          29.2110102,
          29.2110102,
          29.2110102,
          30.4238939,
          30.4238939,
          30.4238939,
          30.4238939,
          30.4238939,
          30.4238939,
          30.4238939,
          30.4238939,
          30.4238939,
          30.4238939,
          30.4238939,
          31.5690317,
          31.5690317,
          31.5690317,
          31.5690317,
          31.5690317,
          31.5690317,
          31.5690317,
          31.5690317,
          31.5690317,
          31.5690317,
          31.5690317,
          31.5690317,
          31.5690317,
          31.5690317,
          31.5690317,
          31.5690317,
          31.5690317,
          31.5690317,
          31.5690317,
          32.5345289,
          32.5345289,
          32.5345289,
          33.742784,
          33.7551065,
          32.0245213,
          33.7463597,
          33.7463597,
          33.7463597,
          33.7463597,
          33.7463597,
          33.7463597,
          33.7463597,
          33.7463597,
          29.9966395,
          30.5267645,
          30.5267645,
          30.5267645,
          30.0259133,
          30.0259133,
          29.963863,
          29.963863,
          29.963863,
          29.963863,
          29.963863,
          29.963863,
          29.963863,
          29.963863,
          29.963863,
          29.963863,
          39.0192914,
          39.0192914,
          39.0192914,
          39.3126142,
          39.3437959,
          39.3437959,
          39.3437959,
          39.3437959,
          39.3437959,
          39.3437959,
          39.3437959,
          38.2178752,
          38.6332575,
          31.8742035,
          31.8742035,
          31.8742035,
          31.8742035,
          31.8742035,
          31.8742035,
          31.8742035,
          31.8742035,
          31.8742035,
          32.34133197,
          32.2968847,
          32.2968847,
          32.2968847,
          32.2968847,
          32.2968847,
          32.2968847,
          32.2968847,
          32.2968847,
          32.2968847,
          34.7764601,
          32.4048131,
          32.4048131,
          32.4048131,
          32.4048131,
          32.4048131,
          32.4048131,
          32.4048131,
          32.4048131,
          36.067872,
          36.067872,
          36.067872,
          36.067872,
          36.281065,
          36.281065,
          36.281065,
          36.281065,
          35.0742206,
          35.0742206,
          35.0742206,
          35.0742206,
          35.0742206,
          35.0742206,
          35.0742206,
          35.2427192,
          35.2427192,
          35.2427192,
          35.2427192,
          35.671441,
          36.0741294,
          36.0741294,
          36.0741294,
          35.972982,
          35.972982,
          35.972982,
          35.972982,
          35.972982,
          35.972982,
          35.972982,
          35.972982,
          35.972982,
          35.972982,
          35.972982,
          35.972982,
          35.972982,
          35.972982,
          35.7876962,
          35.7876962,
          35.7876962,
          36.089874,
          36.089874,
          36.089874,
          36.089874,
          36.089874,
          36.089874,
          35.1180562,
          39.7167824,
          39.710638,
          35.9459622,
          39.933506,
          38.563097,
          34.012867,
          34.012867,
          33.4988288,
          33.4988288,
          33.4988288,
          33.4988288,
          33.4988288,
          33.4988288,
          33.4988288,
          33.4988288,
          33.4988288,
          33.4983441,
          36.167211,
          36.167211,
          36.167211,
          36.167211,
          36.1668224,
          36.1668224,
          36.1668224,
          36.1668224,
          36.1668224,
          32.5891917,
          30.093908,
          29.7217625,
          37.0228392,
          37.0228392,
          37.0228392,
          37.0228392,
          37.0228392,
          37.0228392,
          37.0228392,
          37.0228392,
          37.0228392,
          37.0228392,
          37.0228392,
          37.0228392,
          37.0228392,
          37.0228392,
          37.0228392,
          37.0228392,
          37.0228392,
          37.0228392,
          37.0228392,
          37.0228392,
          37.0228392,
          37.0228392,
          37.0228392,
          37.0228392,
          37.0228392,
          36.8480161,
          37.2384613,
          37.2384613,
          37.5625916,
          18.34342,
          18.34342,
          18.34342,
          18.34342,
          18.34342,
          18.34342,
          18.34342,
          18.34342,
          37.2672311,
          38.3789586,
          38.3789586,
          38.3789586,
          38.3789586,
          38.3789586,
          38.3789586,
          null
         ],
         "lon": [
          -86.572031,
          -86.2940544,
          -86.2940544,
          -86.2940544,
          -86.2940544,
          -86.2940544,
          -86.2940544,
          -86.2940544,
          -86.2940544,
          -86.2940544,
          -86.908268,
          -86.655845,
          -87.5859218,
          -87.5859218,
          -86.1135613,
          -86.1135613,
          -86.1135613,
          -85.7072853,
          -85.7072853,
          -85.7072853,
          -85.7072853,
          -85.7072853,
          -85.7072853,
          -85.7072853,
          -92.0213392,
          -92.0213392,
          -77.019599,
          -77.019599,
          -77.019599,
          -77.019599,
          -77.019599,
          -77.019599,
          -77.019599,
          -77.019599,
          -77.019599,
          -77.019599,
          -77.019599,
          -77.019599,
          -77.019599,
          -77.019599,
          -77.019599,
          -77.019599,
          -77.0656299,
          -77.0656299,
          -77.0656299,
          -77.0656299,
          -77.0656299,
          -77.0656299,
          -77.0656299,
          -77.0656299,
          -77.0656299,
          -77.0656299,
          -77.0656299,
          -77.0656299,
          -77.0656299,
          -75.542267,
          -81.031575,
          -81.031575,
          -81.031575,
          -84.2874453,
          -84.2874453,
          -84.2874453,
          -84.2874453,
          -84.2874453,
          -84.2874453,
          -84.2874453,
          -84.2874453,
          -84.2874453,
          -84.2874453,
          -84.2874453,
          -84.1404238,
          -84.1404238,
          -84.1404238,
          -84.1404238,
          -84.1404238,
          -84.1404238,
          -84.1404238,
          -84.1404238,
          -84.1404238,
          -84.1404238,
          -84.1404238,
          -84.1404238,
          -84.1404238,
          -84.1404238,
          -84.1404238,
          -84.1404238,
          -84.1404238,
          -84.1404238,
          -84.1404238,
          -83.8963575,
          -83.8963575,
          -83.8963575,
          -84.411958,
          -84.4085387,
          -81.0626367,
          -84.4122934,
          -84.4122934,
          -84.4122934,
          -84.4122934,
          -84.4122934,
          -84.4122934,
          -84.4122934,
          -84.4122934,
          -90.0662662,
          -91.1935768,
          -91.1935768,
          -91.1935768,
          -90.0449055,
          -90.0449055,
          -90.107084,
          -90.107084,
          -90.107084,
          -90.107084,
          -90.107084,
          -90.107084,
          -90.107084,
          -90.107084,
          -90.107084,
          -90.107084,
          -76.7594039,
          -76.7594039,
          -76.7594039,
          -76.6579056,
          -76.5843847,
          -76.5843847,
          -76.5843847,
          -76.5843847,
          -76.5843847,
          -76.5843847,
          -76.5843847,
          -75.6910982,
          -90.2241738,
          -91.1372924,
          -91.1372924,
          -91.1372924,
          -91.1372924,
          -91.1372924,
          -91.1372924,
          -91.1372924,
          -91.1372924,
          -91.1372924,
          -90.22049912,
          -90.2063965,
          -90.2063965,
          -90.2063965,
          -90.2063965,
          -90.2063965,
          -90.2063965,
          -90.2063965,
          -90.2063965,
          -90.2063965,
          -89.4476005,
          -90.1607274,
          -90.1607274,
          -90.1607274,
          -90.1607274,
          -90.1607274,
          -90.1607274,
          -90.1607274,
          -90.1607274,
          -79.779216,
          -79.779216,
          -79.779216,
          -79.779216,
          -76.2139598,
          -76.2139598,
          -76.2139598,
          -76.2139598,
          -78.8924896,
          -78.8924896,
          -78.8924896,
          -78.8924896,
          -78.8924896,
          -78.8924896,
          -78.8924896,
          -80.8562124,
          -80.8562124,
          -80.8562124,
          -80.8562124,
          -80.484675,
          -79.7748384,
          -79.7748384,
          -79.7748384,
          -78.8962889,
          -78.8962889,
          -78.8962889,
          -78.8962889,
          -78.8962889,
          -78.8962889,
          -78.8962889,
          -78.8962889,
          -78.8962889,
          -78.8962889,
          -78.8962889,
          -78.8962889,
          -78.8962889,
          -78.8962889,
          -78.6188766,
          -78.6188766,
          -78.6188766,
          -80.2251168,
          -80.2251168,
          -80.2251168,
          -80.2251168,
          -80.2251168,
          -80.2251168,
          -90.0344386,
          -83.8764702,
          -83.878929,
          -97.262907,
          -75.5254286,
          -92.17123,
          -81.020461,
          -81.020461,
          -80.8532251,
          -80.8532251,
          -80.8532251,
          -80.8532251,
          -80.8532251,
          -80.8532251,
          -80.8532251,
          -80.8532251,
          -80.8532251,
          -80.8501492,
          -86.803796,
          -86.803796,
          -86.803796,
          -86.803796,
          -86.8275815,
          -86.8275815,
          -86.8275815,
          -86.8275815,
          -86.8275815,
          -95.1797935,
          -95.9898,
          -95.3606121,
          -76.3343603,
          -76.3343603,
          -76.3343603,
          -76.3343603,
          -76.3343603,
          -76.3343603,
          -76.3343603,
          -76.3343603,
          -76.3343603,
          -76.3343603,
          -76.3343603,
          -76.3343603,
          -76.3343603,
          -76.3343603,
          -76.3343603,
          -76.3343603,
          -76.3343603,
          -76.3343603,
          -76.3343603,
          -76.3343603,
          -76.3343603,
          -76.3343603,
          -76.3343603,
          -76.3343603,
          -76.3343603,
          -76.262085,
          -77.4198721,
          -77.4198721,
          -77.4514696,
          -64.97282,
          -64.97282,
          -64.97282,
          -64.97282,
          -64.97282,
          -64.97282,
          -64.97282,
          -64.97282,
          -81.2374456,
          -81.7665882,
          -81.7665882,
          -81.7665882,
          -81.7665882,
          -81.7665882,
          -81.7665882,
          null
         ],
         "marker": {
          "color": "blue"
         },
         "mode": "markers",
         "text": [
          "Alabama Agricultural and Mechanical University\nNormal, AL\nCouncil Number DateClosed Out",
          "Alabama State University\nMontgomery, AL\nCouncil Number DateWithdrawn by Applicant",
          "Alabama State University\nMontgomery, AL\nCouncil Number DateNot Recommended",
          "Alabama State University\nMontgomery, AL\nCouncil Number DateRejected",
          "Alabama State University\nMontgomery, AL\nCouncil Number DateAwarded",
          "Alabama State University\nMontgomery, AL\nCouncil Number DateRejected",
          "Alabama State University\nMontgomery, AL\nCouncil Number DateIncomplete",
          "Alabama State University\nMontgomery, AL\nCouncil Number DateIncomplete",
          "Alabama State University\nMontgomery, AL\nCouncil Number DateRejected",
          "Alabama State University\nMontgomery, AL\nCouncil Number DateRejected",
          "Miles College\nFairfield, AL\nCouncil Number DateClosed Out",
          "Oakwood College\nHuntsville, AL\nCouncil Number DateRejected",
          "Stillman College\nTuscaloosa, AL\nCouncil Number DateRejected",
          "Stillman College\nTuscaloosa, AL\nCouncil Number DateRejected",
          "Talladega College\nTalladega, AL\nCouncil Number DateRejected",
          "Talladega College\nTalladega, AL\nCouncil Number DateIncomplete",
          "Talladega College\nTalladega, AL\nCouncil Number DateRejected",
          "Tuskegee University\nTuskegee, AL\nCouncil Number DateOffered",
          "Tuskegee University\nTuskegee, AL\nCouncil Number DateAwarded",
          "Tuskegee University\nTuskegee, AL\nCouncil Number DateAwarded",
          "Tuskegee University\nTuskegee, AL\nCouncil Number DateClosed Out",
          "Tuskegee University\nTuskegee, AL\nCouncil Number DateRejected",
          "Tuskegee University\nTuskegee, AL\nCouncil Number DateClosed Out",
          "Tuskegee University\nTuskegee, AL\nCouncil Number DateClosed Out",
          "University of Arkansas at Pine Bluff\nPine Bluff, AR\nCouncil Number DatePending",
          "University of Arkansas at Pine Bluff\nPine Bluff, AR\nCouncil Number DateRejected",
          "Howard University\nWashington, DC\nCouncil Number DateIncomplete",
          "Howard University\nWashington, DC\nCouncil Number DateOffered",
          "Howard University\nWashington, DC\nCouncil Number DateAwarded",
          "Howard University\nWashington, DC\nCouncil Number DateRejected",
          "Howard University\nWashington, DC\nCouncil Number DateIncomplete",
          "Howard University\nWashington, DC\nCouncil Number DateRejected",
          "Howard University\nWashington, DC\nCouncil Number DateIncomplete",
          "Howard University\nWashington, DC\nCouncil Number DateRejected",
          "Howard University\nWashington, DC\nCouncil Number DateWithdrawn by Agency",
          "Howard University\nWashington, DC\nCouncil Number DateClosed Out",
          "Howard University\nWashington, DC\nCouncil Number DateClosed Out",
          "Howard University\nWashington, DC\nCouncil Number DateClosed Out",
          "Howard University\nWashington, DC\nCouncil Number DateClosed Out",
          "Howard University\nWashington, DC\nCouncil Number DateClosed Out",
          "Howard University\nWashington, DC\nCouncil Number DateClosed Out",
          "Howard University\nWashington, DC\nCouncil Number DateClosed Out",
          "University of the District of Columbia\nWashington, DC\nCouncil Number DateRejected",
          "University of the District of Columbia\nWashington, DC\nCouncil Number DateRejected",
          "University of the District of Columbia\nWashington, DC\nCouncil Number DateClosed Out",
          "University of the District of Columbia\nWashington, DC\nCouncil Number DateClosed Out",
          "University of the District of Columbia\nWashington, DC\nCouncil Number DateClosed Out",
          "University of the District of Columbia\nWashington, DC\nCouncil Number DateClosed Out",
          "University of the District of Columbia\nWashington, DC\nCouncil Number DateClosed Out",
          "University of the District of Columbia\nWashington, DC\nCouncil Number DateClosed Out",
          "University of the District of Columbia\nWashington, DC\nCouncil Number DateClosed Out",
          "University of the District of Columbia\nWashington, DC\nCouncil Number DateClosed Out",
          "University of the District of Columbia\nWashington, DC\nCouncil Number DateClosed Out",
          "University of the District of Columbia\nWashington, DC\nCouncil Number DateClosed Out",
          "University of the District of Columbia\nWashington, DC\nCouncil Number DateClosed Out",
          "Delaware State University\nDover, DE\nCouncil Number DateRejected",
          "Bethune-Cookman University\nDaytona Beach, FL\nCouncil Number DateIneligible",
          "Bethune-Cookman University\nDaytona Beach, FL\nCouncil Number DateIncomplete",
          "Bethune-Cookman University\nDaytona Beach, FL\nCouncil Number DateRejected",
          "Florida Agricultural and Mechanical University\nTallahassee, FL\nCouncil Number DateIncomplete",
          "Florida Agricultural and Mechanical University\nTallahassee, FL\nCouncil Number DateIneligible",
          "Florida Agricultural and Mechanical University\nTallahassee, FL\nCouncil Number DateRejected",
          "Florida Agricultural and Mechanical University\nTallahassee, FL\nCouncil Number DateDuplicate",
          "Florida Agricultural and Mechanical University\nTallahassee, FL\nCouncil Number DateDuplicate",
          "Florida Agricultural and Mechanical University\nTallahassee, FL\nCouncil Number DateDuplicate",
          "Florida Agricultural and Mechanical University\nTallahassee, FL\nCouncil Number DateDuplicate",
          "Florida Agricultural and Mechanical University\nTallahassee, FL\nCouncil Number DateDuplicate",
          "Florida Agricultural and Mechanical University\nTallahassee, FL\nCouncil Number DateIneligible",
          "Florida Agricultural and Mechanical University\nTallahassee, FL\nCouncil Number DateClosed Out",
          "Florida Agricultural and Mechanical University\nTallahassee, FL\nCouncil Number DateRejected",
          "Albany State University\nAlbany, GA\nCouncil Number DateIncomplete",
          "Albany State University\nAlbany, GA\nCouncil Number DateClosed Out",
          "Albany State University\nAlbany, GA\nCouncil Number DateClosed Out",
          "Albany State University\nAlbany, GA\nCouncil Number DateRejected",
          "Albany State University\nAlbany, GA\nCouncil Number DateRejected",
          "Albany State University\nAlbany, GA\nCouncil Number DateWithdrawn by Applicant",
          "Albany State University\nAlbany, GA\nCouncil Number DateRejected",
          "Albany State University\nAlbany, GA\nCouncil Number DateRejected",
          "Albany State University\nAlbany, GA\nCouncil Number DateClosed Out",
          "Albany State University\nAlbany, GA\nCouncil Number DateRejected",
          "Albany State University\nAlbany, GA\nCouncil Number DateClosed Out",
          "Albany State University\nAlbany, GA\nCouncil Number DateRejected",
          "Albany State University\nAlbany, GA\nCouncil Number DateWithdrawn by Applicant",
          "Albany State University\nAlbany, GA\nCouncil Number DateClosed Out",
          "Albany State University\nAlbany, GA\nCouncil Number DateClosed Out",
          "Albany State University\nAlbany, GA\nCouncil Number DateClosed Out",
          "Albany State University\nAlbany, GA\nCouncil Number DateClosed Out",
          "Albany State University Foundation, Inc.\nAlbany, GA\nCouncil Number DateClosed Out",
          "Albany State University Foundation, Inc.\nAlbany, GA\nCouncil Number DateClosed Out",
          "Fort Valley State University\nFort Valley, GA\nCouncil Number DatePending",
          "Fort Valley State University\nFort Valley, GA\nCouncil Number DateRejected",
          "Fort Valley State University\nFort Valley, GA\nCouncil Number DateIneligible",
          "Morehouse College\nAtlanta, GA\nCouncil Number DateClosed Out",
          "Morris Brown College\nAtlanta, GA\nCouncil Number DateRejected",
          "Savannah State College\nSavannah, GA\nCouncil Number DateClosed Out",
          "Spelman College\nAtlanta, GA\nCouncil Number DateIncomplete",
          "Spelman College\nAtlanta, GA\nCouncil Number DateIncomplete",
          "Spelman College\nAtlanta, GA\nCouncil Number DateClosed Out",
          "Spelman College\nAtlanta, GA\nCouncil Number DateRejected",
          "Spelman College\nAtlanta, GA\nCouncil Number DateClosed Out",
          "Spelman College\nAtlanta, GA\nCouncil Number DateRejected",
          "Spelman College\nAtlanta, GA\nCouncil Number DateRejected",
          "Spelman College\nAtlanta, GA\nCouncil Number DateRejected",
          "Dillard University\nNew Orleans, LA\nCouncil Number DateRejected",
          "Southern University at New Orleans\nNew Orleans, LA\nCouncil Number DatePending",
          "Southern University at New Orleans\nNew Orleans, LA\nCouncil Number DateOffered",
          "Southern University at New Orleans\nNew Orleans, LA\nCouncil Number DateRejected",
          "Southern University at Shreveport\nShreveport, LA\nCouncil Number DateRejected",
          "Southern University at Shreveport\nShreveport, LA\nCouncil Number DateClosed Out",
          "Xavier University of Louisiana\nNew Orleans, LA\nCouncil Number DateRejected",
          "Xavier University of Louisiana\nNew Orleans, LA\nCouncil Number DateRejected",
          "Xavier University of Louisiana\nNew Orleans, LA\nCouncil Number DateClosed Out",
          "Xavier University of Louisiana\nNew Orleans, LA\nCouncil Number DateClosed Out",
          "Xavier University of Louisiana\nNew Orleans, LA\nCouncil Number DateClosed Out",
          "Xavier University of Louisiana\nNew Orleans, LA\nCouncil Number DateClosed Out",
          "Xavier University of Louisiana\nNew Orleans, LA\nCouncil Number DateClosed Out",
          "Xavier University of Louisiana\nNew Orleans, LA\nCouncil Number DateClosed Out",
          "Xavier University of Louisiana\nNew Orleans, LA\nCouncil Number DateRejected",
          "Xavier University of Louisiana\nNew Orleans, LA\nCouncil Number DateClosed Out",
          "Bowie State University\nBowie, MD\nCouncil Number DateRejected",
          "Bowie State University\nBowie, MD\nCouncil Number DateClosed Out",
          "Bowie State University\nBowie, MD\nCouncil Number DateRejected",
          "Coppin State College\nBaltimore, MD\nCouncil Number DateRejected",
          "Morgan State University\nBaltimore, MD\nCouncil Number DateRejected",
          "Morgan State University\nBaltimore, MD\nCouncil Number DateClosed Out",
          "Morgan State University\nBaltimore, MD\nCouncil Number DateRejected",
          "Morgan State University\nBaltimore, MD\nCouncil Number DateDuplicate",
          "Morgan State University\nBaltimore, MD\nCouncil Number DateClosed Out",
          "Morgan State University\nBaltimore, MD\nCouncil Number DateClosed Out",
          "Morgan State University\nBaltimore, MD\nCouncil Number DateRejected",
          "University of Maryland-Eastern Shore\nPrincess Anne, MD\nCouncil Number DatePending",
          "Harris-Stowe State University\nSt. Louis, MO\nCouncil Number DateRejected",
          "Alcorn State University\nLorman, MS\nCouncil Number DateAwarded",
          "Alcorn State University\nLorman, MS\nCouncil Number DateAwarded",
          "Alcorn State University\nLorman, MS\nCouncil Number DateClosed Out",
          "Alcorn State University\nLorman, MS\nCouncil Number DateClosed Out",
          "Alcorn State University\nLorman, MS\nCouncil Number DateClosed Out",
          "Alcorn State University\nLorman, MS\nCouncil Number DateClosed Out",
          "Alcorn State University\nLorman, MS\nCouncil Number DateClosed Out",
          "Alcorn State University\nLorman, MS\nCouncil Number DateClosed Out",
          "Alcorn State University\nLorman, MS\nCouncil Number DateIneligible",
          "Hinds Community College\nRaymond, MS\nCouncil Number DateRejected",
          "Jackson State University\nJackson, MS\nCouncil Number DateIneligible",
          "Jackson State University\nJackson, MS\nCouncil Number DateIncomplete",
          "Jackson State University\nJackson, MS\nCouncil Number DateIncomplete",
          "Jackson State University\nJackson, MS\nCouncil Number DateIncomplete",
          "Jackson State University\nJackson, MS\nCouncil Number DateIneligible",
          "Jackson State University\nJackson, MS\nCouncil Number DateIneligible",
          "Jackson State University\nJackson, MS\nCouncil Number DateRejected",
          "Jackson State University\nJackson, MS\nCouncil Number DateClosed Out",
          "Jackson State University\nJackson, MS\nCouncil Number DateClosed Out",
          "Rust College\nHolly Springs, MS\nCouncil Number DateClosed Out",
          "Tougaloo College\nTougaloo, MS\nCouncil Number DateRejected",
          "Tougaloo College\nTougaloo, MS\nCouncil Number DateRejected",
          "Tougaloo College\nTougaloo, MS\nCouncil Number DateIncomplete",
          "Tougaloo College\nTougaloo, MS\nCouncil Number DateDuplicate",
          "Tougaloo College\nTougaloo, MS\nCouncil Number DateDuplicate",
          "Tougaloo College\nTougaloo, MS\nCouncil Number DateRejected",
          "Tougaloo College\nTougaloo, MS\nCouncil Number DateIncomplete",
          "Tougaloo College\nTougaloo, MS\nCouncil Number DateClosed Out",
          "Bennett College\nGreensboro, NC\nCouncil Number DateOffered",
          "Bennett College\nGreensboro, NC\nCouncil Number DateRejected",
          "Bennett College\nGreensboro, NC\nCouncil Number DateRejected",
          "Bennett College\nGreensboro, NC\nCouncil Number DateClosed Out",
          "Elizabeth City State University\nElizabeth City, NC\nCouncil Number DateClosed Out",
          "Elizabeth City State University\nElizabeth City, NC\nCouncil Number DateIncomplete",
          "Elizabeth City State University\nElizabeth City, NC\nCouncil Number DateIneligible",
          "Elizabeth City State University\nElizabeth City, NC\nCouncil Number DateClosed Out",
          "Fayetteville State University\nFayetteville, NC\nCouncil Number DateIneligible",
          "Fayetteville State University\nFayetteville, NC\nCouncil Number DateClosed Out",
          "Fayetteville State University\nFayetteville, NC\nCouncil Number DateClosed Out",
          "Fayetteville State University\nFayetteville, NC\nCouncil Number DateRejected",
          "Fayetteville State University\nFayetteville, NC\nCouncil Number DateIneligible",
          "Fayetteville State University\nFayetteville, NC\nCouncil Number DateClosed Out",
          "Fayetteville State University\nFayetteville, NC\nCouncil Number DateRejected",
          "Johnson C. Smith University\nCharlotte, NC\nCouncil Number DateRejected",
          "Johnson C. Smith University\nCharlotte, NC\nCouncil Number DateRejected",
          "Johnson C. Smith University\nCharlotte, NC\nCouncil Number DateRejected",
          "Johnson C. Smith University\nCharlotte, NC\nCouncil Number DateRejected",
          "Livingstone College\nSalisbury, NC\nCouncil Number DateRejected",
          "North Carolina A&T State University\nGreensboro, NC\nCouncil Number DateRejected",
          "North Carolina Agricultural and Technical State University\nGreensboro, NC\nCouncil Number DateIncomplete",
          "North Carolina Agricultural and Technical State University\nGreensboro, NC\nCouncil Number DateRejected",
          "North Carolina Central University\nDurham, NC\nCouncil Number DatePending",
          "North Carolina Central University\nDurham, NC\nCouncil Number DateRejected",
          "North Carolina Central University\nDurham, NC\nCouncil Number DateAwarded",
          "North Carolina Central University\nDurham, NC\nCouncil Number DateAwarded",
          "North Carolina Central University\nDurham, NC\nCouncil Number DateRejected",
          "North Carolina Central University\nDurham, NC\nCouncil Number DateIncomplete",
          "North Carolina Central University\nDurham, NC\nCouncil Number DateRejected",
          "North Carolina Central University\nDurham, NC\nCouncil Number DateRejected",
          "North Carolina Central University\nDurham, NC\nCouncil Number DateClosed Out",
          "North Carolina Central University\nDurham, NC\nCouncil Number DateClosed Out",
          "North Carolina Central University\nDurham, NC\nCouncil Number DateRejected",
          "North Carolina Central University\nDurham, NC\nCouncil Number DateClosed Out",
          "North Carolina Central University\nDurham, NC\nCouncil Number DateClosed Out",
          "North Carolina Central University\nDurham, NC\nCouncil Number DateRejected",
          "Saint Augustine's University\nRaleigh, NC\nCouncil Number DateOffered",
          "Saint Augustine's University\nRaleigh, NC\nCouncil Number DateRejected",
          "Saint Augustine's University\nRaleigh, NC\nCouncil Number DateClosed Out",
          "Winston-Salem State University\nWinston-Salem, NC\nCouncil Number DateDuplicate",
          "Winston-Salem State University\nWinston-Salem, NC\nCouncil Number DateRejected",
          "Winston-Salem State University\nWinston-Salem, NC\nCouncil Number DateClosed Out",
          "Winston-Salem State University\nWinston-Salem, NC\nCouncil Number DateRejected",
          "Winston-Salem State University\nWinston-Salem, NC\nCouncil Number DateDeferred",
          "Winston-Salem State University\nWinston-Salem, NC\nCouncil Number DateClosed Out",
          "Le Moyne College\nSyracuse, NY\nCouncil Number DateRejected",
          "Central State University\nWilberforce, OH\nCouncil Number DateRejected",
          "Wilberforce University\nWilberforce, OH\nCouncil Number DateClosed Out",
          "Langston University\nOklahoma City, OK\nCouncil Number DateRejected",
          "Cheyney University of Pennsylvania\nCheyney, PA\nCouncil Number DateRejected",
          "Lincoln University\nLincoln University, PA\nCouncil Number DateRejected",
          "Benedict College\nColumbia, SC\nCouncil Number DateRejected",
          "Benedict College\nColumbia, SC\nCouncil Number DateClosed Out",
          "Claflin University\nOrangeburg, SC\nCouncil Number DateIncomplete",
          "Claflin University\nOrangeburg, SC\nCouncil Number DateIncomplete",
          "Claflin University\nOrangeburg, SC\nCouncil Number DateClosed Out",
          "Claflin University\nOrangeburg, SC\nCouncil Number DateIncomplete",
          "Claflin University\nOrangeburg, SC\nCouncil Number DateDuplicate",
          "Claflin University\nOrangeburg, SC\nCouncil Number DateRejected",
          "Claflin University\nOrangeburg, SC\nCouncil Number DateRejected",
          "Claflin University\nOrangeburg, SC\nCouncil Number DateRejected",
          "Claflin University\nOrangeburg, SC\nCouncil Number DateRejected",
          "South Carolina State University\nOrangeburg, SC\nCouncil Number DateRejected",
          "Fisk University\nNashville, TN\nCouncil Number DateClosed Out",
          "Fisk University\nNashville, TN\nCouncil Number DateClosed Out",
          "Fisk University\nNashville, TN\nCouncil Number DateRejected",
          "Fisk University\nNashville, TN\nCouncil Number DateClosed Out",
          "Tennessee State University\nNashville, TN\nCouncil Number DateRejected",
          "Tennessee State University\nNashville, TN\nCouncil Number DateIneligible",
          "Tennessee State University\nNashville, TN\nCouncil Number DateClosed Out",
          "Tennessee State University\nNashville, TN\nCouncil Number DateClosed Out",
          "Tennessee State University\nNashville, TN\nCouncil Number DateClosed Out",
          "Jarvis Christian College\nHawkins, TX\nCouncil Number DateRejected",
          "Prairie View A&M University\nPrairie View, TX\nCouncil Number DateIncomplete",
          "Texas Southern University\nHouston, TX\nCouncil Number DateRejected",
          "Hampton University\nHampton, VA\nCouncil Number DatePending",
          "Hampton University\nHampton, VA\nCouncil Number DateIncomplete",
          "Hampton University\nHampton, VA\nCouncil Number DateRejected",
          "Hampton University\nHampton, VA\nCouncil Number DateRejected",
          "Hampton University\nHampton, VA\nCouncil Number DateRejected",
          "Hampton University\nHampton, VA\nCouncil Number DateRejected",
          "Hampton University\nHampton, VA\nCouncil Number DateRejected",
          "Hampton University\nHampton, VA\nCouncil Number DateRejected",
          "Hampton University\nHampton, VA\nCouncil Number DateClosed Out",
          "Hampton University\nHampton, VA\nCouncil Number DateRejected",
          "Hampton University\nHampton, VA\nCouncil Number DateRejected",
          "Hampton University\nHampton, VA\nCouncil Number DatePending",
          "Hampton University\nHampton, VA\nCouncil Number DateRejected",
          "Hampton University\nHampton, VA\nCouncil Number DateRejected",
          "Hampton University\nHampton, VA\nCouncil Number DateClosed Out",
          "Hampton University\nHampton, VA\nCouncil Number DateRejected",
          "Hampton University\nHampton, VA\nCouncil Number DateRejected",
          "Hampton University\nHampton, VA\nCouncil Number DateClosed Out",
          "Hampton University\nHampton, VA\nCouncil Number DateClosed Out",
          "Hampton University\nHampton, VA\nCouncil Number DateClosed Out",
          "Hampton University\nHampton, VA\nCouncil Number DateClosed Out",
          "Hampton University\nHampton, VA\nCouncil Number DateClosed Out",
          "Hampton University\nHampton, VA\nCouncil Number DateClosed Out",
          "Hampton University\nHampton, VA\nCouncil Number DateClosed Out",
          "Hampton University\nHampton, VA\nCouncil Number DateClosed Out",
          "Norfolk State University\nNorfolk, VA\nCouncil Number DateOffered",
          "Virginia State University\nPetersburg, VA\nCouncil Number DateClosed Out",
          "Virginia State University\nPetersburg, VA\nCouncil Number DateWithdrawn by Applicant",
          "Virginia Union University\nRichmond, VA\nCouncil Number DateRejected",
          "University of the Virgin Islands\nCharlotte Amalie, VI\nCouncil Number DatePending",
          "University of the Virgin Islands\nCharlotte Amalie, VI\nCouncil Number DateOffered",
          "University of the Virgin Islands\nCharlotte Amalie, VI\nCouncil Number DateRejected",
          "University of the Virgin Islands\nCharlotte Amalie, VI\nCouncil Number DateClosed Out",
          "University of the Virgin Islands\nCharlotte Amalie, VI\nCouncil Number DateRejected",
          "University of the Virgin Islands\nCharlotte Amalie, VI\nCouncil Number DateRejected",
          "University of the Virgin Islands\nCharlotte Amalie, VI\nCouncil Number DateRejected",
          "University of the Virgin Islands\nCharlotte Amalie, VI\nCouncil Number DateRejected",
          "Bluefield State College\nBluefield, WV\nCouncil Number DateIncomplete",
          "West Virginia State College Foundation, Inc.\nInstitute, WV\nCouncil Number DateRejected",
          "West Virginia State College Foundation, Inc.\nInstitute, WV\nCouncil Number DateRejected",
          "West Virginia State College Foundation, Inc.\nInstitute, WV\nCouncil Number DateRejected",
          "West Virginia State College Foundation, Inc.\nInstitute, WV\nCouncil Number DateRejected",
          "West Virginia State College Foundation, Inc.\nInstitute, WV\nCouncil Number DateClosed Out",
          "West Virginia State College Foundation, Inc.\nInstitute, WV\nCouncil Number DateRejected",
          null
         ],
         "type": "scattergeo"
        }
       ],
       "layout": {
        "geo": {
         "scope": "usa"
        },
        "template": {
         "data": {
          "bar": [
           {
            "error_x": {
             "color": "#2a3f5f"
            },
            "error_y": {
             "color": "#2a3f5f"
            },
            "marker": {
             "line": {
              "color": "#E5ECF6",
              "width": 0.5
             },
             "pattern": {
              "fillmode": "overlay",
              "size": 10,
              "solidity": 0.2
             }
            },
            "type": "bar"
           }
          ],
          "barpolar": [
           {
            "marker": {
             "line": {
              "color": "#E5ECF6",
              "width": 0.5
             },
             "pattern": {
              "fillmode": "overlay",
              "size": 10,
              "solidity": 0.2
             }
            },
            "type": "barpolar"
           }
          ],
          "carpet": [
           {
            "aaxis": {
             "endlinecolor": "#2a3f5f",
             "gridcolor": "white",
             "linecolor": "white",
             "minorgridcolor": "white",
             "startlinecolor": "#2a3f5f"
            },
            "baxis": {
             "endlinecolor": "#2a3f5f",
             "gridcolor": "white",
             "linecolor": "white",
             "minorgridcolor": "white",
             "startlinecolor": "#2a3f5f"
            },
            "type": "carpet"
           }
          ],
          "choropleth": [
           {
            "colorbar": {
             "outlinewidth": 0,
             "ticks": ""
            },
            "type": "choropleth"
           }
          ],
          "contour": [
           {
            "colorbar": {
             "outlinewidth": 0,
             "ticks": ""
            },
            "colorscale": [
             [
              0,
              "#0d0887"
             ],
             [
              0.1111111111111111,
              "#46039f"
             ],
             [
              0.2222222222222222,
              "#7201a8"
             ],
             [
              0.3333333333333333,
              "#9c179e"
             ],
             [
              0.4444444444444444,
              "#bd3786"
             ],
             [
              0.5555555555555556,
              "#d8576b"
             ],
             [
              0.6666666666666666,
              "#ed7953"
             ],
             [
              0.7777777777777778,
              "#fb9f3a"
             ],
             [
              0.8888888888888888,
              "#fdca26"
             ],
             [
              1,
              "#f0f921"
             ]
            ],
            "type": "contour"
           }
          ],
          "contourcarpet": [
           {
            "colorbar": {
             "outlinewidth": 0,
             "ticks": ""
            },
            "type": "contourcarpet"
           }
          ],
          "heatmap": [
           {
            "colorbar": {
             "outlinewidth": 0,
             "ticks": ""
            },
            "colorscale": [
             [
              0,
              "#0d0887"
             ],
             [
              0.1111111111111111,
              "#46039f"
             ],
             [
              0.2222222222222222,
              "#7201a8"
             ],
             [
              0.3333333333333333,
              "#9c179e"
             ],
             [
              0.4444444444444444,
              "#bd3786"
             ],
             [
              0.5555555555555556,
              "#d8576b"
             ],
             [
              0.6666666666666666,
              "#ed7953"
             ],
             [
              0.7777777777777778,
              "#fb9f3a"
             ],
             [
              0.8888888888888888,
              "#fdca26"
             ],
             [
              1,
              "#f0f921"
             ]
            ],
            "type": "heatmap"
           }
          ],
          "heatmapgl": [
           {
            "colorbar": {
             "outlinewidth": 0,
             "ticks": ""
            },
            "colorscale": [
             [
              0,
              "#0d0887"
             ],
             [
              0.1111111111111111,
              "#46039f"
             ],
             [
              0.2222222222222222,
              "#7201a8"
             ],
             [
              0.3333333333333333,
              "#9c179e"
             ],
             [
              0.4444444444444444,
              "#bd3786"
             ],
             [
              0.5555555555555556,
              "#d8576b"
             ],
             [
              0.6666666666666666,
              "#ed7953"
             ],
             [
              0.7777777777777778,
              "#fb9f3a"
             ],
             [
              0.8888888888888888,
              "#fdca26"
             ],
             [
              1,
              "#f0f921"
             ]
            ],
            "type": "heatmapgl"
           }
          ],
          "histogram": [
           {
            "marker": {
             "pattern": {
              "fillmode": "overlay",
              "size": 10,
              "solidity": 0.2
             }
            },
            "type": "histogram"
           }
          ],
          "histogram2d": [
           {
            "colorbar": {
             "outlinewidth": 0,
             "ticks": ""
            },
            "colorscale": [
             [
              0,
              "#0d0887"
             ],
             [
              0.1111111111111111,
              "#46039f"
             ],
             [
              0.2222222222222222,
              "#7201a8"
             ],
             [
              0.3333333333333333,
              "#9c179e"
             ],
             [
              0.4444444444444444,
              "#bd3786"
             ],
             [
              0.5555555555555556,
              "#d8576b"
             ],
             [
              0.6666666666666666,
              "#ed7953"
             ],
             [
              0.7777777777777778,
              "#fb9f3a"
             ],
             [
              0.8888888888888888,
              "#fdca26"
             ],
             [
              1,
              "#f0f921"
             ]
            ],
            "type": "histogram2d"
           }
          ],
          "histogram2dcontour": [
           {
            "colorbar": {
             "outlinewidth": 0,
             "ticks": ""
            },
            "colorscale": [
             [
              0,
              "#0d0887"
             ],
             [
              0.1111111111111111,
              "#46039f"
             ],
             [
              0.2222222222222222,
              "#7201a8"
             ],
             [
              0.3333333333333333,
              "#9c179e"
             ],
             [
              0.4444444444444444,
              "#bd3786"
             ],
             [
              0.5555555555555556,
              "#d8576b"
             ],
             [
              0.6666666666666666,
              "#ed7953"
             ],
             [
              0.7777777777777778,
              "#fb9f3a"
             ],
             [
              0.8888888888888888,
              "#fdca26"
             ],
             [
              1,
              "#f0f921"
             ]
            ],
            "type": "histogram2dcontour"
           }
          ],
          "mesh3d": [
           {
            "colorbar": {
             "outlinewidth": 0,
             "ticks": ""
            },
            "type": "mesh3d"
           }
          ],
          "parcoords": [
           {
            "line": {
             "colorbar": {
              "outlinewidth": 0,
              "ticks": ""
             }
            },
            "type": "parcoords"
           }
          ],
          "pie": [
           {
            "automargin": true,
            "type": "pie"
           }
          ],
          "scatter": [
           {
            "marker": {
             "colorbar": {
              "outlinewidth": 0,
              "ticks": ""
             }
            },
            "type": "scatter"
           }
          ],
          "scatter3d": [
           {
            "line": {
             "colorbar": {
              "outlinewidth": 0,
              "ticks": ""
             }
            },
            "marker": {
             "colorbar": {
              "outlinewidth": 0,
              "ticks": ""
             }
            },
            "type": "scatter3d"
           }
          ],
          "scattercarpet": [
           {
            "marker": {
             "colorbar": {
              "outlinewidth": 0,
              "ticks": ""
             }
            },
            "type": "scattercarpet"
           }
          ],
          "scattergeo": [
           {
            "marker": {
             "colorbar": {
              "outlinewidth": 0,
              "ticks": ""
             }
            },
            "type": "scattergeo"
           }
          ],
          "scattergl": [
           {
            "marker": {
             "colorbar": {
              "outlinewidth": 0,
              "ticks": ""
             }
            },
            "type": "scattergl"
           }
          ],
          "scattermapbox": [
           {
            "marker": {
             "colorbar": {
              "outlinewidth": 0,
              "ticks": ""
             }
            },
            "type": "scattermapbox"
           }
          ],
          "scatterpolar": [
           {
            "marker": {
             "colorbar": {
              "outlinewidth": 0,
              "ticks": ""
             }
            },
            "type": "scatterpolar"
           }
          ],
          "scatterpolargl": [
           {
            "marker": {
             "colorbar": {
              "outlinewidth": 0,
              "ticks": ""
             }
            },
            "type": "scatterpolargl"
           }
          ],
          "scatterternary": [
           {
            "marker": {
             "colorbar": {
              "outlinewidth": 0,
              "ticks": ""
             }
            },
            "type": "scatterternary"
           }
          ],
          "surface": [
           {
            "colorbar": {
             "outlinewidth": 0,
             "ticks": ""
            },
            "colorscale": [
             [
              0,
              "#0d0887"
             ],
             [
              0.1111111111111111,
              "#46039f"
             ],
             [
              0.2222222222222222,
              "#7201a8"
             ],
             [
              0.3333333333333333,
              "#9c179e"
             ],
             [
              0.4444444444444444,
              "#bd3786"
             ],
             [
              0.5555555555555556,
              "#d8576b"
             ],
             [
              0.6666666666666666,
              "#ed7953"
             ],
             [
              0.7777777777777778,
              "#fb9f3a"
             ],
             [
              0.8888888888888888,
              "#fdca26"
             ],
             [
              1,
              "#f0f921"
             ]
            ],
            "type": "surface"
           }
          ],
          "table": [
           {
            "cells": {
             "fill": {
              "color": "#EBF0F8"
             },
             "line": {
              "color": "white"
             }
            },
            "header": {
             "fill": {
              "color": "#C8D4E3"
             },
             "line": {
              "color": "white"
             }
            },
            "type": "table"
           }
          ]
         },
         "layout": {
          "annotationdefaults": {
           "arrowcolor": "#2a3f5f",
           "arrowhead": 0,
           "arrowwidth": 1
          },
          "autotypenumbers": "strict",
          "coloraxis": {
           "colorbar": {
            "outlinewidth": 0,
            "ticks": ""
           }
          },
          "colorscale": {
           "diverging": [
            [
             0,
             "#8e0152"
            ],
            [
             0.1,
             "#c51b7d"
            ],
            [
             0.2,
             "#de77ae"
            ],
            [
             0.3,
             "#f1b6da"
            ],
            [
             0.4,
             "#fde0ef"
            ],
            [
             0.5,
             "#f7f7f7"
            ],
            [
             0.6,
             "#e6f5d0"
            ],
            [
             0.7,
             "#b8e186"
            ],
            [
             0.8,
             "#7fbc41"
            ],
            [
             0.9,
             "#4d9221"
            ],
            [
             1,
             "#276419"
            ]
           ],
           "sequential": [
            [
             0,
             "#0d0887"
            ],
            [
             0.1111111111111111,
             "#46039f"
            ],
            [
             0.2222222222222222,
             "#7201a8"
            ],
            [
             0.3333333333333333,
             "#9c179e"
            ],
            [
             0.4444444444444444,
             "#bd3786"
            ],
            [
             0.5555555555555556,
             "#d8576b"
            ],
            [
             0.6666666666666666,
             "#ed7953"
            ],
            [
             0.7777777777777778,
             "#fb9f3a"
            ],
            [
             0.8888888888888888,
             "#fdca26"
            ],
            [
             1,
             "#f0f921"
            ]
           ],
           "sequentialminus": [
            [
             0,
             "#0d0887"
            ],
            [
             0.1111111111111111,
             "#46039f"
            ],
            [
             0.2222222222222222,
             "#7201a8"
            ],
            [
             0.3333333333333333,
             "#9c179e"
            ],
            [
             0.4444444444444444,
             "#bd3786"
            ],
            [
             0.5555555555555556,
             "#d8576b"
            ],
            [
             0.6666666666666666,
             "#ed7953"
            ],
            [
             0.7777777777777778,
             "#fb9f3a"
            ],
            [
             0.8888888888888888,
             "#fdca26"
            ],
            [
             1,
             "#f0f921"
            ]
           ]
          },
          "colorway": [
           "#636efa",
           "#EF553B",
           "#00cc96",
           "#ab63fa",
           "#FFA15A",
           "#19d3f3",
           "#FF6692",
           "#B6E880",
           "#FF97FF",
           "#FECB52"
          ],
          "font": {
           "color": "#2a3f5f"
          },
          "geo": {
           "bgcolor": "white",
           "lakecolor": "white",
           "landcolor": "#E5ECF6",
           "showlakes": true,
           "showland": true,
           "subunitcolor": "white"
          },
          "hoverlabel": {
           "align": "left"
          },
          "hovermode": "closest",
          "mapbox": {
           "style": "light"
          },
          "paper_bgcolor": "white",
          "plot_bgcolor": "#E5ECF6",
          "polar": {
           "angularaxis": {
            "gridcolor": "white",
            "linecolor": "white",
            "ticks": ""
           },
           "bgcolor": "#E5ECF6",
           "radialaxis": {
            "gridcolor": "white",
            "linecolor": "white",
            "ticks": ""
           }
          },
          "scene": {
           "xaxis": {
            "backgroundcolor": "#E5ECF6",
            "gridcolor": "white",
            "gridwidth": 2,
            "linecolor": "white",
            "showbackground": true,
            "ticks": "",
            "zerolinecolor": "white"
           },
           "yaxis": {
            "backgroundcolor": "#E5ECF6",
            "gridcolor": "white",
            "gridwidth": 2,
            "linecolor": "white",
            "showbackground": true,
            "ticks": "",
            "zerolinecolor": "white"
           },
           "zaxis": {
            "backgroundcolor": "#E5ECF6",
            "gridcolor": "white",
            "gridwidth": 2,
            "linecolor": "white",
            "showbackground": true,
            "ticks": "",
            "zerolinecolor": "white"
           }
          },
          "shapedefaults": {
           "line": {
            "color": "#2a3f5f"
           }
          },
          "ternary": {
           "aaxis": {
            "gridcolor": "white",
            "linecolor": "white",
            "ticks": ""
           },
           "baxis": {
            "gridcolor": "white",
            "linecolor": "white",
            "ticks": ""
           },
           "bgcolor": "#E5ECF6",
           "caxis": {
            "gridcolor": "white",
            "linecolor": "white",
            "ticks": ""
           }
          },
          "title": {
           "x": 0.05
          },
          "xaxis": {
           "automargin": true,
           "gridcolor": "white",
           "linecolor": "white",
           "ticks": "",
           "title": {
            "standoff": 15
           },
           "zerolinecolor": "white",
           "zerolinewidth": 2
          },
          "yaxis": {
           "automargin": true,
           "gridcolor": "white",
           "linecolor": "white",
           "ticks": "",
           "title": {
            "standoff": 15
           },
           "zerolinecolor": "white",
           "zerolinewidth": 2
          }
         }
        },
        "title": {
         "text": "HBCU Data Points <br>(Hover for more info)"
        }
       }
      },
      "text/html": [
       "<div>                            <div id=\"88bafa90-dd26-4273-8bc9-7e6474f19810\" class=\"plotly-graph-div\" style=\"height:525px; width:100%;\"></div>            <script type=\"text/javascript\">                require([\"plotly\"], function(Plotly) {                    window.PLOTLYENV=window.PLOTLYENV || {};                                    if (document.getElementById(\"88bafa90-dd26-4273-8bc9-7e6474f19810\")) {                    Plotly.newPlot(                        \"88bafa90-dd26-4273-8bc9-7e6474f19810\",                        [{\"lat\":[34.7846326,32.3636619,32.3636619,32.3636619,32.3636619,32.3636619,32.3636619,32.3636619,32.3636619,32.3636619,33.480831,34.751841,33.1982647,33.1982647,33.4327519,33.4327519,33.4327519,32.430678,32.430678,32.430678,32.430678,32.430678,32.430678,32.430678,34.2468716,34.2468716,38.922684,38.922684,38.922684,38.922684,38.922684,38.922684,38.922684,38.922684,38.922684,38.922684,38.922684,38.922684,38.922684,38.922684,38.922684,38.922684,38.944677,38.944677,38.944677,38.944677,38.944677,38.944677,38.944677,38.944677,38.944677,38.944677,38.944677,38.944677,38.944677,39.186272,29.2110102,29.2110102,29.2110102,30.4238939,30.4238939,30.4238939,30.4238939,30.4238939,30.4238939,30.4238939,30.4238939,30.4238939,30.4238939,30.4238939,31.5690317,31.5690317,31.5690317,31.5690317,31.5690317,31.5690317,31.5690317,31.5690317,31.5690317,31.5690317,31.5690317,31.5690317,31.5690317,31.5690317,31.5690317,31.5690317,31.5690317,31.5690317,31.5690317,32.5345289,32.5345289,32.5345289,33.742784,33.7551065,32.0245213,33.7463597,33.7463597,33.7463597,33.7463597,33.7463597,33.7463597,33.7463597,33.7463597,29.9966395,30.5267645,30.5267645,30.5267645,30.0259133,30.0259133,29.963863,29.963863,29.963863,29.963863,29.963863,29.963863,29.963863,29.963863,29.963863,29.963863,39.0192914,39.0192914,39.0192914,39.3126142,39.3437959,39.3437959,39.3437959,39.3437959,39.3437959,39.3437959,39.3437959,38.2178752,38.6332575,31.8742035,31.8742035,31.8742035,31.8742035,31.8742035,31.8742035,31.8742035,31.8742035,31.8742035,32.34133197,32.2968847,32.2968847,32.2968847,32.2968847,32.2968847,32.2968847,32.2968847,32.2968847,32.2968847,34.7764601,32.4048131,32.4048131,32.4048131,32.4048131,32.4048131,32.4048131,32.4048131,32.4048131,36.067872,36.067872,36.067872,36.067872,36.281065,36.281065,36.281065,36.281065,35.0742206,35.0742206,35.0742206,35.0742206,35.0742206,35.0742206,35.0742206,35.2427192,35.2427192,35.2427192,35.2427192,35.671441,36.0741294,36.0741294,36.0741294,35.972982,35.972982,35.972982,35.972982,35.972982,35.972982,35.972982,35.972982,35.972982,35.972982,35.972982,35.972982,35.972982,35.972982,35.7876962,35.7876962,35.7876962,36.089874,36.089874,36.089874,36.089874,36.089874,36.089874,35.1180562,39.7167824,39.710638,35.9459622,39.933506,38.563097,34.012867,34.012867,33.4988288,33.4988288,33.4988288,33.4988288,33.4988288,33.4988288,33.4988288,33.4988288,33.4988288,33.4983441,36.167211,36.167211,36.167211,36.167211,36.1668224,36.1668224,36.1668224,36.1668224,36.1668224,32.5891917,30.093908,29.7217625,37.0228392,37.0228392,37.0228392,37.0228392,37.0228392,37.0228392,37.0228392,37.0228392,37.0228392,37.0228392,37.0228392,37.0228392,37.0228392,37.0228392,37.0228392,37.0228392,37.0228392,37.0228392,37.0228392,37.0228392,37.0228392,37.0228392,37.0228392,37.0228392,37.0228392,36.8480161,37.2384613,37.2384613,37.5625916,18.34342,18.34342,18.34342,18.34342,18.34342,18.34342,18.34342,18.34342,37.2672311,38.3789586,38.3789586,38.3789586,38.3789586,38.3789586,38.3789586,null],\"lon\":[-86.572031,-86.2940544,-86.2940544,-86.2940544,-86.2940544,-86.2940544,-86.2940544,-86.2940544,-86.2940544,-86.2940544,-86.908268,-86.655845,-87.5859218,-87.5859218,-86.1135613,-86.1135613,-86.1135613,-85.7072853,-85.7072853,-85.7072853,-85.7072853,-85.7072853,-85.7072853,-85.7072853,-92.0213392,-92.0213392,-77.019599,-77.019599,-77.019599,-77.019599,-77.019599,-77.019599,-77.019599,-77.019599,-77.019599,-77.019599,-77.019599,-77.019599,-77.019599,-77.019599,-77.019599,-77.019599,-77.0656299,-77.0656299,-77.0656299,-77.0656299,-77.0656299,-77.0656299,-77.0656299,-77.0656299,-77.0656299,-77.0656299,-77.0656299,-77.0656299,-77.0656299,-75.542267,-81.031575,-81.031575,-81.031575,-84.2874453,-84.2874453,-84.2874453,-84.2874453,-84.2874453,-84.2874453,-84.2874453,-84.2874453,-84.2874453,-84.2874453,-84.2874453,-84.1404238,-84.1404238,-84.1404238,-84.1404238,-84.1404238,-84.1404238,-84.1404238,-84.1404238,-84.1404238,-84.1404238,-84.1404238,-84.1404238,-84.1404238,-84.1404238,-84.1404238,-84.1404238,-84.1404238,-84.1404238,-84.1404238,-83.8963575,-83.8963575,-83.8963575,-84.411958,-84.4085387,-81.0626367,-84.4122934,-84.4122934,-84.4122934,-84.4122934,-84.4122934,-84.4122934,-84.4122934,-84.4122934,-90.0662662,-91.1935768,-91.1935768,-91.1935768,-90.0449055,-90.0449055,-90.107084,-90.107084,-90.107084,-90.107084,-90.107084,-90.107084,-90.107084,-90.107084,-90.107084,-90.107084,-76.7594039,-76.7594039,-76.7594039,-76.6579056,-76.5843847,-76.5843847,-76.5843847,-76.5843847,-76.5843847,-76.5843847,-76.5843847,-75.6910982,-90.2241738,-91.1372924,-91.1372924,-91.1372924,-91.1372924,-91.1372924,-91.1372924,-91.1372924,-91.1372924,-91.1372924,-90.22049912,-90.2063965,-90.2063965,-90.2063965,-90.2063965,-90.2063965,-90.2063965,-90.2063965,-90.2063965,-90.2063965,-89.4476005,-90.1607274,-90.1607274,-90.1607274,-90.1607274,-90.1607274,-90.1607274,-90.1607274,-90.1607274,-79.779216,-79.779216,-79.779216,-79.779216,-76.2139598,-76.2139598,-76.2139598,-76.2139598,-78.8924896,-78.8924896,-78.8924896,-78.8924896,-78.8924896,-78.8924896,-78.8924896,-80.8562124,-80.8562124,-80.8562124,-80.8562124,-80.484675,-79.7748384,-79.7748384,-79.7748384,-78.8962889,-78.8962889,-78.8962889,-78.8962889,-78.8962889,-78.8962889,-78.8962889,-78.8962889,-78.8962889,-78.8962889,-78.8962889,-78.8962889,-78.8962889,-78.8962889,-78.6188766,-78.6188766,-78.6188766,-80.2251168,-80.2251168,-80.2251168,-80.2251168,-80.2251168,-80.2251168,-90.0344386,-83.8764702,-83.878929,-97.262907,-75.5254286,-92.17123,-81.020461,-81.020461,-80.8532251,-80.8532251,-80.8532251,-80.8532251,-80.8532251,-80.8532251,-80.8532251,-80.8532251,-80.8532251,-80.8501492,-86.803796,-86.803796,-86.803796,-86.803796,-86.8275815,-86.8275815,-86.8275815,-86.8275815,-86.8275815,-95.1797935,-95.9898,-95.3606121,-76.3343603,-76.3343603,-76.3343603,-76.3343603,-76.3343603,-76.3343603,-76.3343603,-76.3343603,-76.3343603,-76.3343603,-76.3343603,-76.3343603,-76.3343603,-76.3343603,-76.3343603,-76.3343603,-76.3343603,-76.3343603,-76.3343603,-76.3343603,-76.3343603,-76.3343603,-76.3343603,-76.3343603,-76.3343603,-76.262085,-77.4198721,-77.4198721,-77.4514696,-64.97282,-64.97282,-64.97282,-64.97282,-64.97282,-64.97282,-64.97282,-64.97282,-81.2374456,-81.7665882,-81.7665882,-81.7665882,-81.7665882,-81.7665882,-81.7665882,null],\"marker\":{\"color\":\"blue\"},\"mode\":\"markers\",\"text\":[\"Alabama Agricultural and Mechanical University\\nNormal, AL\\nCouncil Number DateClosed Out\",\"Alabama State University\\nMontgomery, AL\\nCouncil Number DateWithdrawn by Applicant\",\"Alabama State University\\nMontgomery, AL\\nCouncil Number DateNot Recommended\",\"Alabama State University\\nMontgomery, AL\\nCouncil Number DateRejected\",\"Alabama State University\\nMontgomery, AL\\nCouncil Number DateAwarded\",\"Alabama State University\\nMontgomery, AL\\nCouncil Number DateRejected\",\"Alabama State University\\nMontgomery, AL\\nCouncil Number DateIncomplete\",\"Alabama State University\\nMontgomery, AL\\nCouncil Number DateIncomplete\",\"Alabama State University\\nMontgomery, AL\\nCouncil Number DateRejected\",\"Alabama State University\\nMontgomery, AL\\nCouncil Number DateRejected\",\"Miles College\\nFairfield, AL\\nCouncil Number DateClosed Out\",\"Oakwood College\\nHuntsville, AL\\nCouncil Number DateRejected\",\"Stillman College\\nTuscaloosa, AL\\nCouncil Number DateRejected\",\"Stillman College\\nTuscaloosa, AL\\nCouncil Number DateRejected\",\"Talladega College\\nTalladega, AL\\nCouncil Number DateRejected\",\"Talladega College\\nTalladega, AL\\nCouncil Number DateIncomplete\",\"Talladega College\\nTalladega, AL\\nCouncil Number DateRejected\",\"Tuskegee University\\nTuskegee, AL\\nCouncil Number DateOffered\",\"Tuskegee University\\nTuskegee, AL\\nCouncil Number DateAwarded\",\"Tuskegee University\\nTuskegee, AL\\nCouncil Number DateAwarded\",\"Tuskegee University\\nTuskegee, AL\\nCouncil Number DateClosed Out\",\"Tuskegee University\\nTuskegee, AL\\nCouncil Number DateRejected\",\"Tuskegee University\\nTuskegee, AL\\nCouncil Number DateClosed Out\",\"Tuskegee University\\nTuskegee, AL\\nCouncil Number DateClosed Out\",\"University of Arkansas at Pine Bluff\\nPine Bluff, AR\\nCouncil Number DatePending\",\"University of Arkansas at Pine Bluff\\nPine Bluff, AR\\nCouncil Number DateRejected\",\"Howard University\\nWashington, DC\\nCouncil Number DateIncomplete\",\"Howard University\\nWashington, DC\\nCouncil Number DateOffered\",\"Howard University\\nWashington, DC\\nCouncil Number DateAwarded\",\"Howard University\\nWashington, DC\\nCouncil Number DateRejected\",\"Howard University\\nWashington, DC\\nCouncil Number DateIncomplete\",\"Howard University\\nWashington, DC\\nCouncil Number DateRejected\",\"Howard University\\nWashington, DC\\nCouncil Number DateIncomplete\",\"Howard University\\nWashington, DC\\nCouncil Number DateRejected\",\"Howard University\\nWashington, DC\\nCouncil Number DateWithdrawn by Agency\",\"Howard University\\nWashington, DC\\nCouncil Number DateClosed Out\",\"Howard University\\nWashington, DC\\nCouncil Number DateClosed Out\",\"Howard University\\nWashington, DC\\nCouncil Number DateClosed Out\",\"Howard University\\nWashington, DC\\nCouncil Number DateClosed Out\",\"Howard University\\nWashington, DC\\nCouncil Number DateClosed Out\",\"Howard University\\nWashington, DC\\nCouncil Number DateClosed Out\",\"Howard University\\nWashington, DC\\nCouncil Number DateClosed Out\",\"University of the District of Columbia\\nWashington, DC\\nCouncil Number DateRejected\",\"University of the District of Columbia\\nWashington, DC\\nCouncil Number DateRejected\",\"University of the District of Columbia\\nWashington, DC\\nCouncil Number DateClosed Out\",\"University of the District of Columbia\\nWashington, DC\\nCouncil Number DateClosed Out\",\"University of the District of Columbia\\nWashington, DC\\nCouncil Number DateClosed Out\",\"University of the District of Columbia\\nWashington, DC\\nCouncil Number DateClosed Out\",\"University of the District of Columbia\\nWashington, DC\\nCouncil Number DateClosed Out\",\"University of the District of Columbia\\nWashington, DC\\nCouncil Number DateClosed Out\",\"University of the District of Columbia\\nWashington, DC\\nCouncil Number DateClosed Out\",\"University of the District of Columbia\\nWashington, DC\\nCouncil Number DateClosed Out\",\"University of the District of Columbia\\nWashington, DC\\nCouncil Number DateClosed Out\",\"University of the District of Columbia\\nWashington, DC\\nCouncil Number DateClosed Out\",\"University of the District of Columbia\\nWashington, DC\\nCouncil Number DateClosed Out\",\"Delaware State University\\nDover, DE\\nCouncil Number DateRejected\",\"Bethune-Cookman University\\nDaytona Beach, FL\\nCouncil Number DateIneligible\",\"Bethune-Cookman University\\nDaytona Beach, FL\\nCouncil Number DateIncomplete\",\"Bethune-Cookman University\\nDaytona Beach, FL\\nCouncil Number DateRejected\",\"Florida Agricultural and Mechanical University\\nTallahassee, FL\\nCouncil Number DateIncomplete\",\"Florida Agricultural and Mechanical University\\nTallahassee, FL\\nCouncil Number DateIneligible\",\"Florida Agricultural and Mechanical University\\nTallahassee, FL\\nCouncil Number DateRejected\",\"Florida Agricultural and Mechanical University\\nTallahassee, FL\\nCouncil Number DateDuplicate\",\"Florida Agricultural and Mechanical University\\nTallahassee, FL\\nCouncil Number DateDuplicate\",\"Florida Agricultural and Mechanical University\\nTallahassee, FL\\nCouncil Number DateDuplicate\",\"Florida Agricultural and Mechanical University\\nTallahassee, FL\\nCouncil Number DateDuplicate\",\"Florida Agricultural and Mechanical University\\nTallahassee, FL\\nCouncil Number DateDuplicate\",\"Florida Agricultural and Mechanical University\\nTallahassee, FL\\nCouncil Number DateIneligible\",\"Florida Agricultural and Mechanical University\\nTallahassee, FL\\nCouncil Number DateClosed Out\",\"Florida Agricultural and Mechanical University\\nTallahassee, FL\\nCouncil Number DateRejected\",\"Albany State University\\nAlbany, GA\\nCouncil Number DateIncomplete\",\"Albany State University\\nAlbany, GA\\nCouncil Number DateClosed Out\",\"Albany State University\\nAlbany, GA\\nCouncil Number DateClosed Out\",\"Albany State University\\nAlbany, GA\\nCouncil Number DateRejected\",\"Albany State University\\nAlbany, GA\\nCouncil Number DateRejected\",\"Albany State University\\nAlbany, GA\\nCouncil Number DateWithdrawn by Applicant\",\"Albany State University\\nAlbany, GA\\nCouncil Number DateRejected\",\"Albany State University\\nAlbany, GA\\nCouncil Number DateRejected\",\"Albany State University\\nAlbany, GA\\nCouncil Number DateClosed Out\",\"Albany State University\\nAlbany, GA\\nCouncil Number DateRejected\",\"Albany State University\\nAlbany, GA\\nCouncil Number DateClosed Out\",\"Albany State University\\nAlbany, GA\\nCouncil Number DateRejected\",\"Albany State University\\nAlbany, GA\\nCouncil Number DateWithdrawn by Applicant\",\"Albany State University\\nAlbany, GA\\nCouncil Number DateClosed Out\",\"Albany State University\\nAlbany, GA\\nCouncil Number DateClosed Out\",\"Albany State University\\nAlbany, GA\\nCouncil Number DateClosed Out\",\"Albany State University\\nAlbany, GA\\nCouncil Number DateClosed Out\",\"Albany State University Foundation, Inc.\\nAlbany, GA\\nCouncil Number DateClosed Out\",\"Albany State University Foundation, Inc.\\nAlbany, GA\\nCouncil Number DateClosed Out\",\"Fort Valley State University\\nFort Valley, GA\\nCouncil Number DatePending\",\"Fort Valley State University\\nFort Valley, GA\\nCouncil Number DateRejected\",\"Fort Valley State University\\nFort Valley, GA\\nCouncil Number DateIneligible\",\"Morehouse College\\nAtlanta, GA\\nCouncil Number DateClosed Out\",\"Morris Brown College\\nAtlanta, GA\\nCouncil Number DateRejected\",\"Savannah State College\\nSavannah, GA\\nCouncil Number DateClosed Out\",\"Spelman College\\nAtlanta, GA\\nCouncil Number DateIncomplete\",\"Spelman College\\nAtlanta, GA\\nCouncil Number DateIncomplete\",\"Spelman College\\nAtlanta, GA\\nCouncil Number DateClosed Out\",\"Spelman College\\nAtlanta, GA\\nCouncil Number DateRejected\",\"Spelman College\\nAtlanta, GA\\nCouncil Number DateClosed Out\",\"Spelman College\\nAtlanta, GA\\nCouncil Number DateRejected\",\"Spelman College\\nAtlanta, GA\\nCouncil Number DateRejected\",\"Spelman College\\nAtlanta, GA\\nCouncil Number DateRejected\",\"Dillard University\\nNew Orleans, LA\\nCouncil Number DateRejected\",\"Southern University at New Orleans\\nNew Orleans, LA\\nCouncil Number DatePending\",\"Southern University at New Orleans\\nNew Orleans, LA\\nCouncil Number DateOffered\",\"Southern University at New Orleans\\nNew Orleans, LA\\nCouncil Number DateRejected\",\"Southern University at Shreveport\\nShreveport, LA\\nCouncil Number DateRejected\",\"Southern University at Shreveport\\nShreveport, LA\\nCouncil Number DateClosed Out\",\"Xavier University of Louisiana\\nNew Orleans, LA\\nCouncil Number DateRejected\",\"Xavier University of Louisiana\\nNew Orleans, LA\\nCouncil Number DateRejected\",\"Xavier University of Louisiana\\nNew Orleans, LA\\nCouncil Number DateClosed Out\",\"Xavier University of Louisiana\\nNew Orleans, LA\\nCouncil Number DateClosed Out\",\"Xavier University of Louisiana\\nNew Orleans, LA\\nCouncil Number DateClosed Out\",\"Xavier University of Louisiana\\nNew Orleans, LA\\nCouncil Number DateClosed Out\",\"Xavier University of Louisiana\\nNew Orleans, LA\\nCouncil Number DateClosed Out\",\"Xavier University of Louisiana\\nNew Orleans, LA\\nCouncil Number DateClosed Out\",\"Xavier University of Louisiana\\nNew Orleans, LA\\nCouncil Number DateRejected\",\"Xavier University of Louisiana\\nNew Orleans, LA\\nCouncil Number DateClosed Out\",\"Bowie State University\\nBowie, MD\\nCouncil Number DateRejected\",\"Bowie State University\\nBowie, MD\\nCouncil Number DateClosed Out\",\"Bowie State University\\nBowie, MD\\nCouncil Number DateRejected\",\"Coppin State College\\nBaltimore, MD\\nCouncil Number DateRejected\",\"Morgan State University\\nBaltimore, MD\\nCouncil Number DateRejected\",\"Morgan State University\\nBaltimore, MD\\nCouncil Number DateClosed Out\",\"Morgan State University\\nBaltimore, MD\\nCouncil Number DateRejected\",\"Morgan State University\\nBaltimore, MD\\nCouncil Number DateDuplicate\",\"Morgan State University\\nBaltimore, MD\\nCouncil Number DateClosed Out\",\"Morgan State University\\nBaltimore, MD\\nCouncil Number DateClosed Out\",\"Morgan State University\\nBaltimore, MD\\nCouncil Number DateRejected\",\"University of Maryland-Eastern Shore\\nPrincess Anne, MD\\nCouncil Number DatePending\",\"Harris-Stowe State University\\nSt. Louis, MO\\nCouncil Number DateRejected\",\"Alcorn State University\\nLorman, MS\\nCouncil Number DateAwarded\",\"Alcorn State University\\nLorman, MS\\nCouncil Number DateAwarded\",\"Alcorn State University\\nLorman, MS\\nCouncil Number DateClosed Out\",\"Alcorn State University\\nLorman, MS\\nCouncil Number DateClosed Out\",\"Alcorn State University\\nLorman, MS\\nCouncil Number DateClosed Out\",\"Alcorn State University\\nLorman, MS\\nCouncil Number DateClosed Out\",\"Alcorn State University\\nLorman, MS\\nCouncil Number DateClosed Out\",\"Alcorn State University\\nLorman, MS\\nCouncil Number DateClosed Out\",\"Alcorn State University\\nLorman, MS\\nCouncil Number DateIneligible\",\"Hinds Community College\\nRaymond, MS\\nCouncil Number DateRejected\",\"Jackson State University\\nJackson, MS\\nCouncil Number DateIneligible\",\"Jackson State University\\nJackson, MS\\nCouncil Number DateIncomplete\",\"Jackson State University\\nJackson, MS\\nCouncil Number DateIncomplete\",\"Jackson State University\\nJackson, MS\\nCouncil Number DateIncomplete\",\"Jackson State University\\nJackson, MS\\nCouncil Number DateIneligible\",\"Jackson State University\\nJackson, MS\\nCouncil Number DateIneligible\",\"Jackson State University\\nJackson, MS\\nCouncil Number DateRejected\",\"Jackson State University\\nJackson, MS\\nCouncil Number DateClosed Out\",\"Jackson State University\\nJackson, MS\\nCouncil Number DateClosed Out\",\"Rust College\\nHolly Springs, MS\\nCouncil Number DateClosed Out\",\"Tougaloo College\\nTougaloo, MS\\nCouncil Number DateRejected\",\"Tougaloo College\\nTougaloo, MS\\nCouncil Number DateRejected\",\"Tougaloo College\\nTougaloo, MS\\nCouncil Number DateIncomplete\",\"Tougaloo College\\nTougaloo, MS\\nCouncil Number DateDuplicate\",\"Tougaloo College\\nTougaloo, MS\\nCouncil Number DateDuplicate\",\"Tougaloo College\\nTougaloo, MS\\nCouncil Number DateRejected\",\"Tougaloo College\\nTougaloo, MS\\nCouncil Number DateIncomplete\",\"Tougaloo College\\nTougaloo, MS\\nCouncil Number DateClosed Out\",\"Bennett College\\nGreensboro, NC\\nCouncil Number DateOffered\",\"Bennett College\\nGreensboro, NC\\nCouncil Number DateRejected\",\"Bennett College\\nGreensboro, NC\\nCouncil Number DateRejected\",\"Bennett College\\nGreensboro, NC\\nCouncil Number DateClosed Out\",\"Elizabeth City State University\\nElizabeth City, NC\\nCouncil Number DateClosed Out\",\"Elizabeth City State University\\nElizabeth City, NC\\nCouncil Number DateIncomplete\",\"Elizabeth City State University\\nElizabeth City, NC\\nCouncil Number DateIneligible\",\"Elizabeth City State University\\nElizabeth City, NC\\nCouncil Number DateClosed Out\",\"Fayetteville State University\\nFayetteville, NC\\nCouncil Number DateIneligible\",\"Fayetteville State University\\nFayetteville, NC\\nCouncil Number DateClosed Out\",\"Fayetteville State University\\nFayetteville, NC\\nCouncil Number DateClosed Out\",\"Fayetteville State University\\nFayetteville, NC\\nCouncil Number DateRejected\",\"Fayetteville State University\\nFayetteville, NC\\nCouncil Number DateIneligible\",\"Fayetteville State University\\nFayetteville, NC\\nCouncil Number DateClosed Out\",\"Fayetteville State University\\nFayetteville, NC\\nCouncil Number DateRejected\",\"Johnson C. Smith University\\nCharlotte, NC\\nCouncil Number DateRejected\",\"Johnson C. Smith University\\nCharlotte, NC\\nCouncil Number DateRejected\",\"Johnson C. Smith University\\nCharlotte, NC\\nCouncil Number DateRejected\",\"Johnson C. Smith University\\nCharlotte, NC\\nCouncil Number DateRejected\",\"Livingstone College\\nSalisbury, NC\\nCouncil Number DateRejected\",\"North Carolina A&T State University\\nGreensboro, NC\\nCouncil Number DateRejected\",\"North Carolina Agricultural and Technical State University\\nGreensboro, NC\\nCouncil Number DateIncomplete\",\"North Carolina Agricultural and Technical State University\\nGreensboro, NC\\nCouncil Number DateRejected\",\"North Carolina Central University\\nDurham, NC\\nCouncil Number DatePending\",\"North Carolina Central University\\nDurham, NC\\nCouncil Number DateRejected\",\"North Carolina Central University\\nDurham, NC\\nCouncil Number DateAwarded\",\"North Carolina Central University\\nDurham, NC\\nCouncil Number DateAwarded\",\"North Carolina Central University\\nDurham, NC\\nCouncil Number DateRejected\",\"North Carolina Central University\\nDurham, NC\\nCouncil Number DateIncomplete\",\"North Carolina Central University\\nDurham, NC\\nCouncil Number DateRejected\",\"North Carolina Central University\\nDurham, NC\\nCouncil Number DateRejected\",\"North Carolina Central University\\nDurham, NC\\nCouncil Number DateClosed Out\",\"North Carolina Central University\\nDurham, NC\\nCouncil Number DateClosed Out\",\"North Carolina Central University\\nDurham, NC\\nCouncil Number DateRejected\",\"North Carolina Central University\\nDurham, NC\\nCouncil Number DateClosed Out\",\"North Carolina Central University\\nDurham, NC\\nCouncil Number DateClosed Out\",\"North Carolina Central University\\nDurham, NC\\nCouncil Number DateRejected\",\"Saint Augustine's University\\nRaleigh, NC\\nCouncil Number DateOffered\",\"Saint Augustine's University\\nRaleigh, NC\\nCouncil Number DateRejected\",\"Saint Augustine's University\\nRaleigh, NC\\nCouncil Number DateClosed Out\",\"Winston-Salem State University\\nWinston-Salem, NC\\nCouncil Number DateDuplicate\",\"Winston-Salem State University\\nWinston-Salem, NC\\nCouncil Number DateRejected\",\"Winston-Salem State University\\nWinston-Salem, NC\\nCouncil Number DateClosed Out\",\"Winston-Salem State University\\nWinston-Salem, NC\\nCouncil Number DateRejected\",\"Winston-Salem State University\\nWinston-Salem, NC\\nCouncil Number DateDeferred\",\"Winston-Salem State University\\nWinston-Salem, NC\\nCouncil Number DateClosed Out\",\"Le Moyne College\\nSyracuse, NY\\nCouncil Number DateRejected\",\"Central State University\\nWilberforce, OH\\nCouncil Number DateRejected\",\"Wilberforce University\\nWilberforce, OH\\nCouncil Number DateClosed Out\",\"Langston University\\nOklahoma City, OK\\nCouncil Number DateRejected\",\"Cheyney University of Pennsylvania\\nCheyney, PA\\nCouncil Number DateRejected\",\"Lincoln University\\nLincoln University, PA\\nCouncil Number DateRejected\",\"Benedict College\\nColumbia, SC\\nCouncil Number DateRejected\",\"Benedict College\\nColumbia, SC\\nCouncil Number DateClosed Out\",\"Claflin University\\nOrangeburg, SC\\nCouncil Number DateIncomplete\",\"Claflin University\\nOrangeburg, SC\\nCouncil Number DateIncomplete\",\"Claflin University\\nOrangeburg, SC\\nCouncil Number DateClosed Out\",\"Claflin University\\nOrangeburg, SC\\nCouncil Number DateIncomplete\",\"Claflin University\\nOrangeburg, SC\\nCouncil Number DateDuplicate\",\"Claflin University\\nOrangeburg, SC\\nCouncil Number DateRejected\",\"Claflin University\\nOrangeburg, SC\\nCouncil Number DateRejected\",\"Claflin University\\nOrangeburg, SC\\nCouncil Number DateRejected\",\"Claflin University\\nOrangeburg, SC\\nCouncil Number DateRejected\",\"South Carolina State University\\nOrangeburg, SC\\nCouncil Number DateRejected\",\"Fisk University\\nNashville, TN\\nCouncil Number DateClosed Out\",\"Fisk University\\nNashville, TN\\nCouncil Number DateClosed Out\",\"Fisk University\\nNashville, TN\\nCouncil Number DateRejected\",\"Fisk University\\nNashville, TN\\nCouncil Number DateClosed Out\",\"Tennessee State University\\nNashville, TN\\nCouncil Number DateRejected\",\"Tennessee State University\\nNashville, TN\\nCouncil Number DateIneligible\",\"Tennessee State University\\nNashville, TN\\nCouncil Number DateClosed Out\",\"Tennessee State University\\nNashville, TN\\nCouncil Number DateClosed Out\",\"Tennessee State University\\nNashville, TN\\nCouncil Number DateClosed Out\",\"Jarvis Christian College\\nHawkins, TX\\nCouncil Number DateRejected\",\"Prairie View A&M University\\nPrairie View, TX\\nCouncil Number DateIncomplete\",\"Texas Southern University\\nHouston, TX\\nCouncil Number DateRejected\",\"Hampton University\\nHampton, VA\\nCouncil Number DatePending\",\"Hampton University\\nHampton, VA\\nCouncil Number DateIncomplete\",\"Hampton University\\nHampton, VA\\nCouncil Number DateRejected\",\"Hampton University\\nHampton, VA\\nCouncil Number DateRejected\",\"Hampton University\\nHampton, VA\\nCouncil Number DateRejected\",\"Hampton University\\nHampton, VA\\nCouncil Number DateRejected\",\"Hampton University\\nHampton, VA\\nCouncil Number DateRejected\",\"Hampton University\\nHampton, VA\\nCouncil Number DateRejected\",\"Hampton University\\nHampton, VA\\nCouncil Number DateClosed Out\",\"Hampton University\\nHampton, VA\\nCouncil Number DateRejected\",\"Hampton University\\nHampton, VA\\nCouncil Number DateRejected\",\"Hampton University\\nHampton, VA\\nCouncil Number DatePending\",\"Hampton University\\nHampton, VA\\nCouncil Number DateRejected\",\"Hampton University\\nHampton, VA\\nCouncil Number DateRejected\",\"Hampton University\\nHampton, VA\\nCouncil Number DateClosed Out\",\"Hampton University\\nHampton, VA\\nCouncil Number DateRejected\",\"Hampton University\\nHampton, VA\\nCouncil Number DateRejected\",\"Hampton University\\nHampton, VA\\nCouncil Number DateClosed Out\",\"Hampton University\\nHampton, VA\\nCouncil Number DateClosed Out\",\"Hampton University\\nHampton, VA\\nCouncil Number DateClosed Out\",\"Hampton University\\nHampton, VA\\nCouncil Number DateClosed Out\",\"Hampton University\\nHampton, VA\\nCouncil Number DateClosed Out\",\"Hampton University\\nHampton, VA\\nCouncil Number DateClosed Out\",\"Hampton University\\nHampton, VA\\nCouncil Number DateClosed Out\",\"Hampton University\\nHampton, VA\\nCouncil Number DateClosed Out\",\"Norfolk State University\\nNorfolk, VA\\nCouncil Number DateOffered\",\"Virginia State University\\nPetersburg, VA\\nCouncil Number DateClosed Out\",\"Virginia State University\\nPetersburg, VA\\nCouncil Number DateWithdrawn by Applicant\",\"Virginia Union University\\nRichmond, VA\\nCouncil Number DateRejected\",\"University of the Virgin Islands\\nCharlotte Amalie, VI\\nCouncil Number DatePending\",\"University of the Virgin Islands\\nCharlotte Amalie, VI\\nCouncil Number DateOffered\",\"University of the Virgin Islands\\nCharlotte Amalie, VI\\nCouncil Number DateRejected\",\"University of the Virgin Islands\\nCharlotte Amalie, VI\\nCouncil Number DateClosed Out\",\"University of the Virgin Islands\\nCharlotte Amalie, VI\\nCouncil Number DateRejected\",\"University of the Virgin Islands\\nCharlotte Amalie, VI\\nCouncil Number DateRejected\",\"University of the Virgin Islands\\nCharlotte Amalie, VI\\nCouncil Number DateRejected\",\"University of the Virgin Islands\\nCharlotte Amalie, VI\\nCouncil Number DateRejected\",\"Bluefield State College\\nBluefield, WV\\nCouncil Number DateIncomplete\",\"West Virginia State College Foundation, Inc.\\nInstitute, WV\\nCouncil Number DateRejected\",\"West Virginia State College Foundation, Inc.\\nInstitute, WV\\nCouncil Number DateRejected\",\"West Virginia State College Foundation, Inc.\\nInstitute, WV\\nCouncil Number DateRejected\",\"West Virginia State College Foundation, Inc.\\nInstitute, WV\\nCouncil Number DateRejected\",\"West Virginia State College Foundation, Inc.\\nInstitute, WV\\nCouncil Number DateClosed Out\",\"West Virginia State College Foundation, Inc.\\nInstitute, WV\\nCouncil Number DateRejected\",null],\"type\":\"scattergeo\"}],                        {\"template\":{\"data\":{\"bar\":[{\"error_x\":{\"color\":\"#2a3f5f\"},\"error_y\":{\"color\":\"#2a3f5f\"},\"marker\":{\"line\":{\"color\":\"#E5ECF6\",\"width\":0.5},\"pattern\":{\"fillmode\":\"overlay\",\"size\":10,\"solidity\":0.2}},\"type\":\"bar\"}],\"barpolar\":[{\"marker\":{\"line\":{\"color\":\"#E5ECF6\",\"width\":0.5},\"pattern\":{\"fillmode\":\"overlay\",\"size\":10,\"solidity\":0.2}},\"type\":\"barpolar\"}],\"carpet\":[{\"aaxis\":{\"endlinecolor\":\"#2a3f5f\",\"gridcolor\":\"white\",\"linecolor\":\"white\",\"minorgridcolor\":\"white\",\"startlinecolor\":\"#2a3f5f\"},\"baxis\":{\"endlinecolor\":\"#2a3f5f\",\"gridcolor\":\"white\",\"linecolor\":\"white\",\"minorgridcolor\":\"white\",\"startlinecolor\":\"#2a3f5f\"},\"type\":\"carpet\"}],\"choropleth\":[{\"colorbar\":{\"outlinewidth\":0,\"ticks\":\"\"},\"type\":\"choropleth\"}],\"contour\":[{\"colorbar\":{\"outlinewidth\":0,\"ticks\":\"\"},\"colorscale\":[[0.0,\"#0d0887\"],[0.1111111111111111,\"#46039f\"],[0.2222222222222222,\"#7201a8\"],[0.3333333333333333,\"#9c179e\"],[0.4444444444444444,\"#bd3786\"],[0.5555555555555556,\"#d8576b\"],[0.6666666666666666,\"#ed7953\"],[0.7777777777777778,\"#fb9f3a\"],[0.8888888888888888,\"#fdca26\"],[1.0,\"#f0f921\"]],\"type\":\"contour\"}],\"contourcarpet\":[{\"colorbar\":{\"outlinewidth\":0,\"ticks\":\"\"},\"type\":\"contourcarpet\"}],\"heatmap\":[{\"colorbar\":{\"outlinewidth\":0,\"ticks\":\"\"},\"colorscale\":[[0.0,\"#0d0887\"],[0.1111111111111111,\"#46039f\"],[0.2222222222222222,\"#7201a8\"],[0.3333333333333333,\"#9c179e\"],[0.4444444444444444,\"#bd3786\"],[0.5555555555555556,\"#d8576b\"],[0.6666666666666666,\"#ed7953\"],[0.7777777777777778,\"#fb9f3a\"],[0.8888888888888888,\"#fdca26\"],[1.0,\"#f0f921\"]],\"type\":\"heatmap\"}],\"heatmapgl\":[{\"colorbar\":{\"outlinewidth\":0,\"ticks\":\"\"},\"colorscale\":[[0.0,\"#0d0887\"],[0.1111111111111111,\"#46039f\"],[0.2222222222222222,\"#7201a8\"],[0.3333333333333333,\"#9c179e\"],[0.4444444444444444,\"#bd3786\"],[0.5555555555555556,\"#d8576b\"],[0.6666666666666666,\"#ed7953\"],[0.7777777777777778,\"#fb9f3a\"],[0.8888888888888888,\"#fdca26\"],[1.0,\"#f0f921\"]],\"type\":\"heatmapgl\"}],\"histogram\":[{\"marker\":{\"pattern\":{\"fillmode\":\"overlay\",\"size\":10,\"solidity\":0.2}},\"type\":\"histogram\"}],\"histogram2d\":[{\"colorbar\":{\"outlinewidth\":0,\"ticks\":\"\"},\"colorscale\":[[0.0,\"#0d0887\"],[0.1111111111111111,\"#46039f\"],[0.2222222222222222,\"#7201a8\"],[0.3333333333333333,\"#9c179e\"],[0.4444444444444444,\"#bd3786\"],[0.5555555555555556,\"#d8576b\"],[0.6666666666666666,\"#ed7953\"],[0.7777777777777778,\"#fb9f3a\"],[0.8888888888888888,\"#fdca26\"],[1.0,\"#f0f921\"]],\"type\":\"histogram2d\"}],\"histogram2dcontour\":[{\"colorbar\":{\"outlinewidth\":0,\"ticks\":\"\"},\"colorscale\":[[0.0,\"#0d0887\"],[0.1111111111111111,\"#46039f\"],[0.2222222222222222,\"#7201a8\"],[0.3333333333333333,\"#9c179e\"],[0.4444444444444444,\"#bd3786\"],[0.5555555555555556,\"#d8576b\"],[0.6666666666666666,\"#ed7953\"],[0.7777777777777778,\"#fb9f3a\"],[0.8888888888888888,\"#fdca26\"],[1.0,\"#f0f921\"]],\"type\":\"histogram2dcontour\"}],\"mesh3d\":[{\"colorbar\":{\"outlinewidth\":0,\"ticks\":\"\"},\"type\":\"mesh3d\"}],\"parcoords\":[{\"line\":{\"colorbar\":{\"outlinewidth\":0,\"ticks\":\"\"}},\"type\":\"parcoords\"}],\"pie\":[{\"automargin\":true,\"type\":\"pie\"}],\"scatter\":[{\"marker\":{\"colorbar\":{\"outlinewidth\":0,\"ticks\":\"\"}},\"type\":\"scatter\"}],\"scatter3d\":[{\"line\":{\"colorbar\":{\"outlinewidth\":0,\"ticks\":\"\"}},\"marker\":{\"colorbar\":{\"outlinewidth\":0,\"ticks\":\"\"}},\"type\":\"scatter3d\"}],\"scattercarpet\":[{\"marker\":{\"colorbar\":{\"outlinewidth\":0,\"ticks\":\"\"}},\"type\":\"scattercarpet\"}],\"scattergeo\":[{\"marker\":{\"colorbar\":{\"outlinewidth\":0,\"ticks\":\"\"}},\"type\":\"scattergeo\"}],\"scattergl\":[{\"marker\":{\"colorbar\":{\"outlinewidth\":0,\"ticks\":\"\"}},\"type\":\"scattergl\"}],\"scattermapbox\":[{\"marker\":{\"colorbar\":{\"outlinewidth\":0,\"ticks\":\"\"}},\"type\":\"scattermapbox\"}],\"scatterpolar\":[{\"marker\":{\"colorbar\":{\"outlinewidth\":0,\"ticks\":\"\"}},\"type\":\"scatterpolar\"}],\"scatterpolargl\":[{\"marker\":{\"colorbar\":{\"outlinewidth\":0,\"ticks\":\"\"}},\"type\":\"scatterpolargl\"}],\"scatterternary\":[{\"marker\":{\"colorbar\":{\"outlinewidth\":0,\"ticks\":\"\"}},\"type\":\"scatterternary\"}],\"surface\":[{\"colorbar\":{\"outlinewidth\":0,\"ticks\":\"\"},\"colorscale\":[[0.0,\"#0d0887\"],[0.1111111111111111,\"#46039f\"],[0.2222222222222222,\"#7201a8\"],[0.3333333333333333,\"#9c179e\"],[0.4444444444444444,\"#bd3786\"],[0.5555555555555556,\"#d8576b\"],[0.6666666666666666,\"#ed7953\"],[0.7777777777777778,\"#fb9f3a\"],[0.8888888888888888,\"#fdca26\"],[1.0,\"#f0f921\"]],\"type\":\"surface\"}],\"table\":[{\"cells\":{\"fill\":{\"color\":\"#EBF0F8\"},\"line\":{\"color\":\"white\"}},\"header\":{\"fill\":{\"color\":\"#C8D4E3\"},\"line\":{\"color\":\"white\"}},\"type\":\"table\"}]},\"layout\":{\"annotationdefaults\":{\"arrowcolor\":\"#2a3f5f\",\"arrowhead\":0,\"arrowwidth\":1},\"autotypenumbers\":\"strict\",\"coloraxis\":{\"colorbar\":{\"outlinewidth\":0,\"ticks\":\"\"}},\"colorscale\":{\"diverging\":[[0,\"#8e0152\"],[0.1,\"#c51b7d\"],[0.2,\"#de77ae\"],[0.3,\"#f1b6da\"],[0.4,\"#fde0ef\"],[0.5,\"#f7f7f7\"],[0.6,\"#e6f5d0\"],[0.7,\"#b8e186\"],[0.8,\"#7fbc41\"],[0.9,\"#4d9221\"],[1,\"#276419\"]],\"sequential\":[[0.0,\"#0d0887\"],[0.1111111111111111,\"#46039f\"],[0.2222222222222222,\"#7201a8\"],[0.3333333333333333,\"#9c179e\"],[0.4444444444444444,\"#bd3786\"],[0.5555555555555556,\"#d8576b\"],[0.6666666666666666,\"#ed7953\"],[0.7777777777777778,\"#fb9f3a\"],[0.8888888888888888,\"#fdca26\"],[1.0,\"#f0f921\"]],\"sequentialminus\":[[0.0,\"#0d0887\"],[0.1111111111111111,\"#46039f\"],[0.2222222222222222,\"#7201a8\"],[0.3333333333333333,\"#9c179e\"],[0.4444444444444444,\"#bd3786\"],[0.5555555555555556,\"#d8576b\"],[0.6666666666666666,\"#ed7953\"],[0.7777777777777778,\"#fb9f3a\"],[0.8888888888888888,\"#fdca26\"],[1.0,\"#f0f921\"]]},\"colorway\":[\"#636efa\",\"#EF553B\",\"#00cc96\",\"#ab63fa\",\"#FFA15A\",\"#19d3f3\",\"#FF6692\",\"#B6E880\",\"#FF97FF\",\"#FECB52\"],\"font\":{\"color\":\"#2a3f5f\"},\"geo\":{\"bgcolor\":\"white\",\"lakecolor\":\"white\",\"landcolor\":\"#E5ECF6\",\"showlakes\":true,\"showland\":true,\"subunitcolor\":\"white\"},\"hoverlabel\":{\"align\":\"left\"},\"hovermode\":\"closest\",\"mapbox\":{\"style\":\"light\"},\"paper_bgcolor\":\"white\",\"plot_bgcolor\":\"#E5ECF6\",\"polar\":{\"angularaxis\":{\"gridcolor\":\"white\",\"linecolor\":\"white\",\"ticks\":\"\"},\"bgcolor\":\"#E5ECF6\",\"radialaxis\":{\"gridcolor\":\"white\",\"linecolor\":\"white\",\"ticks\":\"\"}},\"scene\":{\"xaxis\":{\"backgroundcolor\":\"#E5ECF6\",\"gridcolor\":\"white\",\"gridwidth\":2,\"linecolor\":\"white\",\"showbackground\":true,\"ticks\":\"\",\"zerolinecolor\":\"white\"},\"yaxis\":{\"backgroundcolor\":\"#E5ECF6\",\"gridcolor\":\"white\",\"gridwidth\":2,\"linecolor\":\"white\",\"showbackground\":true,\"ticks\":\"\",\"zerolinecolor\":\"white\"},\"zaxis\":{\"backgroundcolor\":\"#E5ECF6\",\"gridcolor\":\"white\",\"gridwidth\":2,\"linecolor\":\"white\",\"showbackground\":true,\"ticks\":\"\",\"zerolinecolor\":\"white\"}},\"shapedefaults\":{\"line\":{\"color\":\"#2a3f5f\"}},\"ternary\":{\"aaxis\":{\"gridcolor\":\"white\",\"linecolor\":\"white\",\"ticks\":\"\"},\"baxis\":{\"gridcolor\":\"white\",\"linecolor\":\"white\",\"ticks\":\"\"},\"bgcolor\":\"#E5ECF6\",\"caxis\":{\"gridcolor\":\"white\",\"linecolor\":\"white\",\"ticks\":\"\"}},\"title\":{\"x\":0.05},\"xaxis\":{\"automargin\":true,\"gridcolor\":\"white\",\"linecolor\":\"white\",\"ticks\":\"\",\"title\":{\"standoff\":15},\"zerolinecolor\":\"white\",\"zerolinewidth\":2},\"yaxis\":{\"automargin\":true,\"gridcolor\":\"white\",\"linecolor\":\"white\",\"ticks\":\"\",\"title\":{\"standoff\":15},\"zerolinecolor\":\"white\",\"zerolinewidth\":2}}},\"geo\":{\"scope\":\"usa\"},\"title\":{\"text\":\"HBCU Data Points <br>(Hover for more info)\"}},                        {\"responsive\": true}                    ).then(function(){\n",
       "                            \n",
       "var gd = document.getElementById('88bafa90-dd26-4273-8bc9-7e6474f19810');\n",
       "var x = new MutationObserver(function (mutations, observer) {{\n",
       "        var display = window.getComputedStyle(gd).display;\n",
       "        if (!display || display === 'none') {{\n",
       "            console.log([gd, 'removed!']);\n",
       "            Plotly.purge(gd);\n",
       "            observer.disconnect();\n",
       "        }}\n",
       "}});\n",
       "\n",
       "// Listen for the removal of the full notebook cells\n",
       "var notebookContainer = gd.closest('#notebook-container');\n",
       "if (notebookContainer) {{\n",
       "    x.observe(notebookContainer, {childList: true});\n",
       "}}\n",
       "\n",
       "// Listen for the clearing of the current output cell\n",
       "var outputEl = gd.closest('.output');\n",
       "if (outputEl) {{\n",
       "    x.observe(outputEl, {childList: true});\n",
       "}}\n",
       "\n",
       "                        })                };                });            </script>        </div>"
      ]
     },
     "metadata": {},
     "output_type": "display_data"
    }
   ],
   "source": [
    "fig.update_layout(\n",
    "        title = 'HBCU Data Points <br>(Hover for more info)',\n",
    "        geo_scope='usa',\n",
    "    )\n",
    "\n",
    "fig.show()"
   ]
  },
  {
   "cell_type": "code",
   "execution_count": null,
   "id": "0b3bb0e6",
   "metadata": {},
   "outputs": [],
   "source": []
  },
  {
   "cell_type": "code",
   "execution_count": null,
   "id": "1136e8cb",
   "metadata": {},
   "outputs": [],
   "source": []
  }
 ],
 "metadata": {
  "kernelspec": {
   "display_name": "Python 3 (ipykernel)",
   "language": "python",
   "name": "python3"
  },
  "language_info": {
   "codemirror_mode": {
    "name": "ipython",
    "version": 3
   },
   "file_extension": ".py",
   "mimetype": "text/x-python",
   "name": "python",
   "nbconvert_exporter": "python",
   "pygments_lexer": "ipython3",
   "version": "3.9.7"
  }
 },
 "nbformat": 4,
 "nbformat_minor": 5
}
